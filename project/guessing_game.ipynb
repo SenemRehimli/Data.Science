{
 "cells": [
  {
   "cell_type": "code",
   "execution_count": 1,
   "id": "02676276",
   "metadata": {},
   "outputs": [
    {
     "name": "stdout",
     "output_type": "stream",
     "text": [
      "Try to guess the number I am thinking of!: 5\n",
      "The number is greater than what you guessed!\n",
      "Try to guess the number I am thinking of!: 55\n",
      "The number is lower than what you guessed!\n",
      "Try to guess the number I am thinking of!: 45\n",
      "The number is lower than what you guessed!\n",
      "Try to guess the number I am thinking of!: 40\n",
      "The number is lower than what you guessed!\n",
      "Try to guess the number I am thinking of!: 20\n",
      "The number is greater than what you guessed!\n",
      "Try to guess the number I am thinking of!: 30\n",
      "The number is greater than what you guessed!\n",
      "Try to guess the number I am thinking of!: 35\n",
      "The number is lower than what you guessed!\n",
      "Try to guess the number I am thinking of!: 34\n",
      "The number is lower than what you guessed!\n",
      "Try to guess the number I am thinking of!: 33\n",
      "The number is lower than what you guessed!\n",
      "Try to guess the number I am thinking of!: 32\n",
      "Congrats! You guessed it correctly!\n",
      "It took you 10 guesses!\n"
     ]
    }
   ],
   "source": [
    "import random\n",
    "\n",
    "number=random.randint(0, 100)\n",
    "count=0\n",
    "\n",
    "while True:\n",
    "    n=int(input('Try to guess the number I am thinking of!: '))\n",
    "    count+=1\n",
    "    \n",
    "    if n==number:\n",
    "        print(f'Congrats! You guessed it correctly!\\nIt took you {count} guesses!')\n",
    "        break\n",
    "        \n",
    "    elif n>number:\n",
    "        print('The number is lower than what you guessed!')\n",
    "        \n",
    "    else:\n",
    "        print('The number is greater than what you guessed!')"
   ]
  }
 ],
 "metadata": {
  "kernelspec": {
   "display_name": "Python 3",
   "language": "python",
   "name": "python3"
  },
  "language_info": {
   "codemirror_mode": {
    "name": "ipython",
    "version": 3
   },
   "file_extension": ".py",
   "mimetype": "text/x-python",
   "name": "python",
   "nbconvert_exporter": "python",
   "pygments_lexer": "ipython3",
   "version": "3.8.8"
  }
 },
 "nbformat": 4,
 "nbformat_minor": 5
}
